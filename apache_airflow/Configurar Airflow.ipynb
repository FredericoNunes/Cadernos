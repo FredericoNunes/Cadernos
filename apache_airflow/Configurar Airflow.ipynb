{
 "cells": [
  {
   "cell_type": "markdown",
   "metadata": {},
   "source": [
    "# Apache Airflow\n",
    "\n",
    "Primeiros passos recomendo esse tutorial\n",
    "\n",
    "https://medium.com/data-hackers/primeiros-passos-com-o-apache-airflow-etl-f%C3%A1cil-robusto-e-de-baixo-custo-f80db989edae\n",
    " \n",
    "O Conceito central está na DAG = Directed Acyclic Graph (DAG)\n",
    "O segredo pra montar uma DAG é seguir 5 passos:\n",
    "    1. Importar Modulos\n",
    "    2. Argumentos Default\n",
    "    3. Instanciar a DAG\n",
    "    4. Apontar as Tasks\n",
    "    5. Montar Dependencias\n",
    "    \n",
    "Tutorial:\n",
    "https://airflow.apache.org/docs/stable/tutorial.html"
   ]
  },
  {
   "cell_type": "code",
   "execution_count": null,
   "metadata": {},
   "outputs": [],
   "source": []
  }
 ],
 "metadata": {
  "kernelspec": {
   "display_name": "Python 3",
   "language": "python",
   "name": "python3"
  },
  "language_info": {
   "codemirror_mode": {
    "name": "ipython",
    "version": 3
   },
   "file_extension": ".py",
   "mimetype": "text/x-python",
   "name": "python",
   "nbconvert_exporter": "python",
   "pygments_lexer": "ipython3",
   "version": "3.6.6"
  }
 },
 "nbformat": 4,
 "nbformat_minor": 2
}
